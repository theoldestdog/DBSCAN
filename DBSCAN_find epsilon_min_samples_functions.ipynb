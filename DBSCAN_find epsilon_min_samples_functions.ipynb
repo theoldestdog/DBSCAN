{
 "cells": [
  {
   "cell_type": "markdown",
   "metadata": {},
   "source": [
    "Program with functions to test for best epsilon and min_samples"
   ]
  },
  {
   "cell_type": "code",
   "execution_count": null,
   "metadata": {},
   "outputs": [],
   "source": [
    "import pandas as pd\n",
    "import numpy as np\n",
    "import matplotlib.pyplot as plt\n",
    "from sklearn.neighbors import NearestNeighbors\n",
    "from sklearn.cluster import DBSCAN\n",
    "from sklearn.metrics import silhouette_score\n",
    "from sklearn.preprocessing import StandardScaler, MinMaxScaler\n"
   ]
  },
  {
   "cell_type": "markdown",
   "metadata": {},
   "source": [
    "Function for k-NN distances"
   ]
  },
  {
   "cell_type": "code",
   "execution_count": null,
   "metadata": {},
   "outputs": [],
   "source": [
    "def compute_knn_distances(X, k=5):\n",
    "    neighbors = NearestNeighbors(n_neighbors=k)\n",
    "    neighbors_fit = neighbors.fit(X)\n",
    "    distances, _ = neighbors_fit.kneighbors(X)\n",
    "    distances = np.sort(distances[:, k-1])\n",
    "    return distances\n",
    "\n",
    "def plot_knn_distances(distances):\n",
    "    plt.plot(distances)\n",
    "    plt.title('k-NN Distance Plot')\n",
    "    plt.xlabel('Data Points')\n",
    "    plt.ylabel('k-NN Distance')\n",
    "    plt.show()"
   ]
  },
  {
   "cell_type": "markdown",
   "metadata": {},
   "source": [
    "Functions for determining best epsilon using sihouette score and min_sample using sensitivity"
   ]
  },
  {
   "cell_type": "code",
   "execution_count": null,
   "metadata": {},
   "outputs": [],
   "source": [
    "def find_best_epsilon(X, distances, percentiles=[0.80, 0.85, 0.90, 0.95], min_samples=5):\n",
    "    best_score = -1\n",
    "    best_epsilon = None\n",
    "    for percentile in percentiles:\n",
    "        epsilon = distances[round(len(distances) * percentile)]\n",
    "        db = DBSCAN(eps=epsilon, min_samples=min_samples).fit(X)\n",
    "        labels = db.labels_\n",
    "        if len(set(labels)) > 1:\n",
    "            score = silhouette_score(X, labels)\n",
    "            if score > best_score:\n",
    "                best_score = score\n",
    "                best_epsilon = epsilon\n",
    "    return best_epsilon, best_score\n",
    "\n",
    "def test_min_samples(X, best_epsilon, min_samples_values=[5, 10, 15, 20]):\n",
    "    best_score = -1\n",
    "    best_params = None\n",
    "    for min_samples in min_samples_values:\n",
    "        db = DBSCAN(eps=best_epsilon, min_samples=min_samples).fit(X)\n",
    "        labels = db.labels_\n",
    "        if len(set(labels)) > 1:\n",
    "            score = silhouette_score(X, labels)\n",
    "            if score > best_score:\n",
    "                best_score = score\n",
    "                best_params = (best_epsilon, min_samples)\n",
    "    return best_params, best_score"
   ]
  },
  {
   "cell_type": "markdown",
   "metadata": {},
   "source": [
    "End result"
   ]
  },
  {
   "cell_type": "code",
   "execution_count": null,
   "metadata": {},
   "outputs": [],
   "source": [
    "X = np.random.rand(4312, 3)  # Example dataset with 3 features\n",
    "distances = compute_knn_distances(X)\n",
    "plot_knn_distances(distances)\n",
    "best_epsilon, _ = find_best_epsilon(X, distances)\n",
    "best_params, best_score = test_min_samples(X, best_epsilon)\n",
    "\n",
    "print(\"Best params (epsilon, min_samples):\", best_params)\n",
    "print(\"Best Silhouette Score:\", best_score)"
   ]
  }
 ],
 "metadata": {
  "kernelspec": {
   "display_name": "Python 3",
   "language": "python",
   "name": "python3"
  },
  "language_info": {
   "codemirror_mode": {
    "name": "ipython",
    "version": 3
   },
   "file_extension": ".py",
   "mimetype": "text/x-python",
   "name": "python",
   "nbconvert_exporter": "python",
   "pygments_lexer": "ipython3",
   "version": "3.10.3"
  }
 },
 "nbformat": 4,
 "nbformat_minor": 2
}
